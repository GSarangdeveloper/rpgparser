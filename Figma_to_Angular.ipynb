{
  "cells": [
    {
      "cell_type": "markdown",
      "metadata": {},
      "source": [
        "# Figma to Angular Conversion Tool\n",
        "\n",
        "This notebook converts Figma designs to Angular code using a multi-stage approach:\n",
        "\n",
        "1. **Component Parser**: Extracts component hierarchy from Figma JSON\n",
        "2. **GenAI Analysis**: Interprets design patterns and intentions\n",
        "3. **Prompt Generation**: Creates structured prompts with Angular best practices\n",
        "4. **Angular Code Generation**: Produces downloadable Angular component files\n",
        "\n",
        "## Setup\n",
        "\n",
        "Run this cell to install required dependencies."
      ]
    },
    {
      "cell_type": "code",
      "execution_count": null,
      "metadata": {},
      "source": [
        "# Install required packages\n",
        "!pip install google-generativeai openai"
      ]
    },
    {
      "cell_type": "markdown",
      "metadata": {},
      "source": [
        "## Upload the Module\n",
        "\n",
        "First, you need to upload the `figma_to_angular.py` module file. You'll need to download this file from the repository first."
      ]
    },
    {
      "cell_type": "code",
      "execution_count": null,
      "metadata": {},
      "source": [
        "# Upload the figma_to_angular.py module file\n",
        "from google.colab import files\n",
        "print(\"Please upload the figma_to_angular.py file:\")\n",
        "uploaded = files.upload()\n",
        "\n",
        "# Write the module to disk so it can be imported\n",
        "if 'figma_to_angular.py' in uploaded:\n",
        "    print(\"Module file uploaded successfully!\")\n",
        "else:\n",
        "    print(\"Warning: The uploaded file doesn't appear to be named 'figma_to_angular.py'. Please make sure you upload the correct file.\")"
      ]
    },
    {
      "cell_type": "markdown",
      "metadata": {},
      "source": [
        "## Import the Figma to Angular Conversion Module\n",
        "\n",
        "Now let's import our converter module."
      ]
    },
    {
      "cell_type": "code",
      "execution_count": null,
      "metadata": {},
      "source": [
        "# Import the module\n",
        "import figma_to_angular as f2a\n",
        "import json\n",
        "from google.colab import files\n",
        "from IPython.display import Markdown, display, HTML"
      ]
    },
    {
      "cell_type": "markdown",
      "metadata": {},
      "source": [
        "## Configure API Access\n",
        "\n",
        "Choose between Gemini or OpenAI as your AI provider."
      ]
    },
    {
      "cell_type": "code",
      "execution_count": null,
      "metadata": {},
      "source": [
        "# Choose your preferred AI provider\n",
        "api_choice = input(\"Select AI provider (1 for Gemini, 2 for OpenAI): \")\n",
        "\n",
        "if api_choice == \"1\":\n",
        "    api_key = input(\"Enter your Google API Key: \")\n",
        "    genai = f2a.configure_genai_api(api_key)\n",
        "    model = f2a.create_gemini_model(genai)\n",
        "    model_type = \"gemini\"\n",
        "else:\n",
        "    api_key = input(\"Enter your OpenAI API Key: \")\n",
        "    openai = f2a.configure_openai_api(api_key)\n",
        "    model = openai\n",
        "    model_type = \"openai\""
      ]
    },
    {
      "cell_type": "markdown",
      "metadata": {},
      "source": [
        "## Upload Figma JSON\n",
        "\n",
        "Upload your Figma design JSON file. You can export this from Figma by:\n",
        "\n",
        "1. Right-click on a frame or component\n",
        "2. Select \"Copy/Paste as\" → \"Copy as JSON\"\n",
        "3. Paste into a text file and save with .json extension\n",
        "4. Upload that file below"
      ]
    },
    {
      "cell_type": "code",
      "execution_count": null,
      "metadata": {},
      "source": [
        "# Upload Figma JSON file\n",
        "print(\"Upload your Figma JSON file:\")\n",
        "uploaded = files.upload()\n",
        "figma_json_filename = list(uploaded.keys())[0]\n",
        "figma_json_content = uploaded[figma_json_filename].decode('utf-8')\n",
        "figma_json = json.loads(figma_json_content)\n",
        "\n",
        "# Show confirmation\n",
        "print(f\"\\nUploaded {figma_json_filename} successfully!\")"
      ]
    },
    {
      "cell_type": "markdown",
      "metadata": {},
      "source": [
        "## Run Conversion Process\n",
        "\n",
        "This cell runs the complete conversion process through all four stages. It may take several minutes to complete, especially for complex designs."
      ]
    },
    {
      "cell_type": "code",
      "execution_count": null,
      "metadata": {},
      "source": [
        "# Run the conversion process\n",
        "result = f2a.convert_figma_to_angular(figma_json, model, model_type)\n",
        "\n",
        "# Display results\n",
        "f2a.display_conversion_results(result)"
      ]
    },
    {
      "cell_type": "markdown",
      "metadata": {},
      "source": [
        "## Download the Angular Project\n",
        "\n",
        "Download the generated Angular project as a ZIP file. This ZIP contains a complete Angular project structure that you can extract and run with standard Angular CLI commands."
      ]
    },
    {
      "cell_type": "code",
      "execution_count": null,
      "metadata": {},
      "source": [
        "# Download Angular project as ZIP\n",
        "zip_data = result[\"project_zip\"].getvalue()\n",
        "with open('angular_project.zip', 'wb') as f:\n",
        "    f.write(zip_data)\n",
        "files.download('angular_project.zip')"
      ]
    },
    {
      "cell_type": "markdown",
      "metadata": {},
      "source": [
        "## How to Use the Generated Angular Project\n",
        "\n",
        "After downloading and extracting the ZIP file, you can run the Angular project with these steps:\n",
        "\n",
        "1. Install dependencies:\n",
        "   ```\n",
        "   npm install\n",
        "   ```\n",
        "\n",
        "2. Start the development server:\n",
        "   ```\n",
        "   ng serve\n",
        "   ```\n",
        "\n",
        "3. Open your browser to `http://localhost:4200`\n",
        "\n",
        "## Project Structure\n",
        "\n",
        "The generated Angular project follows standard Angular architecture with these key components:\n",
        "\n",
        "- **Components**: UI elements directly mapped from your Figma design\n",
        "- **Models**: TypeScript interfaces for data structures\n",
        "- **Services**: For data handling and business logic\n",
        "- **Modules**: Feature and shared modules for organization\n",
        "- **Assets**: For images and other static resources\n",
        "\n",
        "The code is generated following Angular best practices and includes proper typing, documentation, and component structure."
      ]
    }
  ],
  "metadata": {
    "colab": {
      "provenance": []
    },
    "kernelspec": {
      "display_name": "Python 3",
      "language": "python",
      "name": "python3"
    },
    "language_info": {
      "codemirror_mode": {
        "name": "ipython",
        "version": 3
      },
      "file_extension": ".py",
      "mimetype": "text/x-python",
      "name": "python",
      "nbconvert_exporter": "python",
      "pygments_lexer": "ipython3",
      "version": "3.8.10"
    }
  },
  "nbformat": 4,
  "nbformat_minor": 4
}